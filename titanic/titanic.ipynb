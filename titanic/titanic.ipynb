{
 "cells": [
  {
   "cell_type": "code",
   "id": "initial_id",
   "metadata": {
    "collapsed": true,
    "ExecuteTime": {
     "end_time": "2024-10-28T17:56:27.621305Z",
     "start_time": "2024-10-28T17:56:24.129074Z"
    }
   },
   "source": [
    "from sklearn.metrics import classification_report\n",
    "from sklearn.preprocessing import LabelEncoder\n",
    "from sklearn.tree import DecisionTreeClassifier\n",
    "from sklearn.ensemble import RandomForestClassifier\n",
    "import pandas as pd\n",
    "import numpy as np\n",
    "\n",
    "# بارگذاری داده‌ها\n",
    "answer = pd.read_csv(\"C:\\\\Users\\\\sepeh\\\\Downloads\\\\titanic\\\\gender_submission.csv\")\n",
    "answer = answer.dropna(subset=['Survived'])\n",
    "print(len(answer))\n",
    "test = pd.read_csv(\"C:\\\\Users\\\\sepeh\\\\Downloads\\\\titanic\\\\test.csv\")\n",
    "train = pd.read_csv(\"C:\\\\Users\\\\sepeh\\\\Downloads\\\\titanic\\\\train.csv\")\n",
    "# حذف ردیف‌های نامعتبر\n",
    "train2 = train.dropna(subset=[   'Pclass', 'Sex', 'Survived'], inplace=False)\n",
    "test2 = test.dropna(subset=['Sex', 'Pclass'], inplace=False)  # مطمئن شوید که داده‌های تست نیز کامل هستند\n",
    "test_ar = np.array(test2[['PassengerId',\t\t'Pclass',\t'Name',\t'Sex',\t'Age', \t'SibSp', \t'Parch'\t,'Ticket'\t,'Fare'\t,'Cabin',\t'Embarked'\n",
    "]])\n",
    "train_ar = np.array(train2[['PassengerId',\t\t'Pclass',\t'Name',\t'Sex',\t'Age', \t'SibSp', \t'Parch'\t,'Ticket'\t,'Fare'\t,'Cabin',\t'Embarked'\n",
    "]])\n",
    "data = np.concatenate((train_ar, test_ar), axis = 0)\n",
    "data = pd.DataFrame(data, columns=\n",
    "['PassengerId', 'Pclass','Name', 'Sex',\t'Age', \t'SibSp', 'Parch', 'Ticket', 'Fare', 'Cabin', 'Embarked'\n",
    "])\n",
    "# data  = data.dropna (subset = ['PassengerId',\t\t'Pclass',\t'Name',\t'Sex',\t'Age', \t'SibSp', \t'Parch'\t,'Ticket'\t,'Fare'\t,'Cabin',\t'Embarked'\n",
    "# ])\n",
    "# train = train.dropna(subset = ['PassengerId',\t\t'Pclass',\t'Name',\t'Sex',\t'Age', \t'SibSp', \t'Parch'\t,'Ticket'\t,'Fare'\t,'Cabin',\t'Embarked'\n",
    "# ])\n",
    "print(len(data))\n",
    "print(len(test2))\n",
    "print(len(train2))\n",
    "print(len(train2[\"Survived\"]))\n",
    "print(\"----------------------------\")\n",
    "\n",
    "print(len(data[[\"PassengerId\", \"Pclass\", \"Age\", \"Sex\", \"SibSp\", \"Parch\", \"Fare\", \"Embarked\"]].iloc[:891]))\n",
    "print( len(train2['Survived']))\n",
    "# شناسایی مقادیر مجاز از داده‌های آموزش\n",
    "# valid_cabins = set(train['Cabin'].unique())\n",
    "# test = test[test['Cabin'].isin(valid_cabins)]\n"
   ],
   "outputs": [
    {
     "name": "stdout",
     "output_type": "stream",
     "text": [
      "418\n",
      "1309\n",
      "418\n",
      "891\n",
      "891\n",
      "----------------------------\n",
      "891\n",
      "891\n"
     ]
    }
   ],
   "execution_count": 1
  },
  {
   "metadata": {
    "ExecuteTime": {
     "end_time": "2024-10-28T17:56:29.449107Z",
     "start_time": "2024-10-28T17:56:29.435656Z"
    }
   },
   "cell_type": "code",
   "source": [
    "\n",
    "# تبدیل مقادیر رشته‌ای به عددی\n",
    "encoder_sex = LabelEncoder()\n",
    "encoder_Embarked = LabelEncoder()\n",
    "encoder_Cabin = LabelEncoder()\n",
    "\n",
    "data['Sex'] = encoder_sex.fit_transform(data['Sex'])\n",
    "# test['Sex'] = encoder_sex.transform(test['Sex'])  # استفاده از transform برای داده‌های تست\n",
    "\n",
    "data['Embarked'] = encoder_Embarked.fit_transform(data['Embarked'])\n",
    "# test['Embarked'] = encoder_Embarked.transform(test['Embarked'])\n",
    "\n",
    "data['Cabin'] = encoder_Cabin.fit_transform(data['Cabin'])\n",
    "# test['Cabin'] = encoder_Cabin.transform(test['Cabin'])\n",
    "\n"
   ],
   "id": "44098bd80163dec9",
   "outputs": [],
   "execution_count": 2
  },
  {
   "metadata": {
    "ExecuteTime": {
     "end_time": "2024-10-28T17:56:45.347696Z",
     "start_time": "2024-10-28T17:56:44.588506Z"
    }
   },
   "cell_type": "code",
   "source": [
    "# آموزش مدل\n",
    "# model = DecisionTreeClassifier(max_features=10,criterion='gini', min_samples_split=2 , ccp_alpha=1e-5, min_samples_leaf=8,  max_leaf_nodes=31, max_depth=32, random_state=1)\n",
    "model = RandomForestClassifier(n_estimators=200, criterion='gini', max_features=8, min_samples_split=2, min_samples_leaf=2, max_leaf_nodes=32)\n",
    "model.fit(data[[\"PassengerId\", \"Pclass\", \"Age\", \"Sex\", \"Parch\", \"Fare\", \"Embarked\"]].iloc[:891], train2['Survived'])\n",
    "\n",
    "# پیش‌بینی\n",
    "pred = model.predict(data[[\"PassengerId\", \"Pclass\", \"Age\", \"Sex\", \"Parch\", \"Fare\", \"Embarked\"]].iloc[:891])\n",
    "report = classification_report(train2['Survived'], pred)\n",
    "print(report)\n",
    "\n",
    "pred_test = model.predict(data[[\"PassengerId\", \"Pclass\", \"Age\", \"Sex\", \"Parch\", \"Fare\", \"Embarked\"]].iloc[891:1309])\n",
    "print(len(pred_test))\n",
    "\n",
    "print(f\"Length of answer: {len(answer['Survived'])}, Length of predictions: {len(pred_test)}\")\n",
    "\n",
    "# گزارش\n",
    "print(classification_report(answer['Survived'], pred_test))"
   ],
   "id": "72ca03fe8e23f95e",
   "outputs": [
    {
     "name": "stdout",
     "output_type": "stream",
     "text": [
      "              precision    recall  f1-score   support\n",
      "\n",
      "           0       0.89      0.96      0.92       549\n",
      "           1       0.92      0.81      0.86       342\n",
      "\n",
      "    accuracy                           0.90       891\n",
      "   macro avg       0.90      0.88      0.89       891\n",
      "weighted avg       0.90      0.90      0.90       891\n",
      "\n",
      "418\n",
      "Length of answer: 418, Length of predictions: 418\n",
      "              precision    recall  f1-score   support\n",
      "\n",
      "           0       0.89      0.92      0.91       266\n",
      "           1       0.86      0.80      0.83       152\n",
      "\n",
      "    accuracy                           0.88       418\n",
      "   macro avg       0.87      0.86      0.87       418\n",
      "weighted avg       0.88      0.88      0.88       418\n",
      "\n"
     ]
    }
   ],
   "execution_count": 3
  },
  {
   "metadata": {
    "ExecuteTime": {
     "end_time": "2024-10-28T17:57:06.615314Z",
     "start_time": "2024-10-28T17:57:06.596380Z"
    }
   },
   "cell_type": "code",
   "source": [
    "\n",
    "# ایجاد DataFrame نهایی با PassengerId و پیش‌بینی‌ها\n",
    "passenger_ids_test = data[\"PassengerId\"].iloc[891:1309]  # گرفتن PassengerId برای داده‌های تست\n",
    "predictions_df = pd.DataFrame({\n",
    "    'PassengerId': passenger_ids_test,\n",
    "    'Survived': pred_test\n",
    "})\n",
    "predictions_df.to_csv(\"predict_Survived2.csv\",index=False)\n",
    "print(predictions_df.head())"
   ],
   "id": "9be8e355037db308",
   "outputs": [
    {
     "name": "stdout",
     "output_type": "stream",
     "text": [
      "    PassengerId  Survived\n",
      "891         892         0\n",
      "892         893         0\n",
      "893         894         0\n",
      "894         895         0\n",
      "895         896         1\n"
     ]
    }
   ],
   "execution_count": 4
  },
  {
   "metadata": {
    "ExecuteTime": {
     "end_time": "2024-10-28T17:57:16.383195Z",
     "start_time": "2024-10-28T17:57:16.363581Z"
    }
   },
   "cell_type": "code",
   "source": "print(classification_report(answer['Survived'], pred_test))",
   "id": "6ea0ba2bd4796945",
   "outputs": [
    {
     "name": "stdout",
     "output_type": "stream",
     "text": [
      "              precision    recall  f1-score   support\n",
      "\n",
      "           0       0.89      0.92      0.91       266\n",
      "           1       0.86      0.80      0.83       152\n",
      "\n",
      "    accuracy                           0.88       418\n",
      "   macro avg       0.87      0.86      0.87       418\n",
      "weighted avg       0.88      0.88      0.88       418\n",
      "\n"
     ]
    }
   ],
   "execution_count": 5
  }
 ],
 "metadata": {
  "kernelspec": {
   "display_name": "Python 3",
   "language": "python",
   "name": "python3"
  },
  "language_info": {
   "codemirror_mode": {
    "name": "ipython",
    "version": 2
   },
   "file_extension": ".py",
   "mimetype": "text/x-python",
   "name": "python",
   "nbconvert_exporter": "python",
   "pygments_lexer": "ipython2",
   "version": "2.7.6"
  }
 },
 "nbformat": 4,
 "nbformat_minor": 5
}
